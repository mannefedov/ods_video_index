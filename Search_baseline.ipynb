{
 "cells": [
  {
   "cell_type": "code",
   "execution_count": 15,
   "metadata": {},
   "outputs": [],
   "source": [
    "import requests\n",
    "import json\n",
    "import pickle\n",
    "import pandas as pd\n",
    "from time import sleep\n",
    "from sklearn.feature_extraction.text import TfidfVectorizer, CountVectorizer\n",
    "from sklearn.decomposition import TruncatedSVD\n",
    "from collections import Counter\n",
    "from sklearn.metrics.pairwise import cosine_distances\n",
    "from collections import defaultdict\n",
    "import numpy as np\n"
   ]
  },
  {
   "cell_type": "code",
   "execution_count": 2,
   "metadata": {},
   "outputs": [],
   "source": [
    "df_vid = pd.read_csv('ods_videos.csv')"
   ]
  },
  {
   "cell_type": "code",
   "execution_count": 4,
   "metadata": {},
   "outputs": [
    {
     "data": {
      "text/html": [
       "<div>\n",
       "<style scoped>\n",
       "    .dataframe tbody tr th:only-of-type {\n",
       "        vertical-align: middle;\n",
       "    }\n",
       "\n",
       "    .dataframe tbody tr th {\n",
       "        vertical-align: top;\n",
       "    }\n",
       "\n",
       "    .dataframe thead th {\n",
       "        text-align: right;\n",
       "    }\n",
       "</style>\n",
       "<table border=\"1\" class=\"dataframe\">\n",
       "  <thead>\n",
       "    <tr style=\"text-align: right;\">\n",
       "      <th></th>\n",
       "      <th>youtube_id</th>\n",
       "      <th>channel</th>\n",
       "      <th>title</th>\n",
       "      <th>publishedAt</th>\n",
       "      <th>description</th>\n",
       "      <th>url</th>\n",
       "    </tr>\n",
       "  </thead>\n",
       "  <tbody>\n",
       "    <tr>\n",
       "      <th>0</th>\n",
       "      <td>46nnbxEZNw8</td>\n",
       "      <td>Компьютерные науки</td>\n",
       "      <td>068. Как извлечь из сырых данных пользу для му...</td>\n",
       "      <td>2018-07-03T15:05:30.000Z</td>\n",
       "      <td>В рамках конференции «Data&amp;Science: маркетинг»...</td>\n",
       "      <td>https://www.youtube.com/watch?v=46nnbxEZNw8</td>\n",
       "    </tr>\n",
       "    <tr>\n",
       "      <th>1</th>\n",
       "      <td>RnUcRYAbWtY</td>\n",
       "      <td>Компьютерные науки</td>\n",
       "      <td>001. Прикладные задачи оптимизации – М.В. Бацын</td>\n",
       "      <td>2015-04-10T12:07:26.000Z</td>\n",
       "      <td>NaN</td>\n",
       "      <td>https://www.youtube.com/watch?v=RnUcRYAbWtY</td>\n",
       "    </tr>\n",
       "    <tr>\n",
       "      <th>2</th>\n",
       "      <td>frLW8UVp_Ik</td>\n",
       "      <td>Компьютерные науки</td>\n",
       "      <td>005. Тематическое моделирование на пути к разв...</td>\n",
       "      <td>2016-09-27T13:08:21.000Z</td>\n",
       "      <td>NaN</td>\n",
       "      <td>https://www.youtube.com/watch?v=frLW8UVp_Ik</td>\n",
       "    </tr>\n",
       "    <tr>\n",
       "      <th>3</th>\n",
       "      <td>7lerRDCZrhU</td>\n",
       "      <td>Компьютерные науки</td>\n",
       "      <td>Запись тренировки ML 29.07.2017</td>\n",
       "      <td>2017-07-29T10:48:27.000Z</td>\n",
       "      <td>Описание:\\nРим Шаяхметов — Предсказание сердеч...</td>\n",
       "      <td>https://www.youtube.com/watch?v=7lerRDCZrhU</td>\n",
       "    </tr>\n",
       "    <tr>\n",
       "      <th>4</th>\n",
       "      <td>Zco55S3RNU0</td>\n",
       "      <td>Компьютерные науки</td>\n",
       "      <td>058. Круглый стол «Как анализ данных меняет м...</td>\n",
       "      <td>2018-02-21T12:11:45.000Z</td>\n",
       "      <td>В рамках конференции Яндекса «Большие данные в...</td>\n",
       "      <td>https://www.youtube.com/watch?v=Zco55S3RNU0</td>\n",
       "    </tr>\n",
       "  </tbody>\n",
       "</table>\n",
       "</div>"
      ],
      "text/plain": [
       "    youtube_id             channel  \\\n",
       "0  46nnbxEZNw8  Компьютерные науки   \n",
       "1  RnUcRYAbWtY  Компьютерные науки   \n",
       "2  frLW8UVp_Ik  Компьютерные науки   \n",
       "3  7lerRDCZrhU  Компьютерные науки   \n",
       "4  Zco55S3RNU0  Компьютерные науки   \n",
       "\n",
       "                                               title  \\\n",
       "0  068. Как извлечь из сырых данных пользу для му...   \n",
       "1    001. Прикладные задачи оптимизации – М.В. Бацын   \n",
       "2  005. Тематическое моделирование на пути к разв...   \n",
       "3                    Запись тренировки ML 29.07.2017   \n",
       "4  058. Круглый стол «Как анализ данных меняет м...   \n",
       "\n",
       "                publishedAt  \\\n",
       "0  2018-07-03T15:05:30.000Z   \n",
       "1  2015-04-10T12:07:26.000Z   \n",
       "2  2016-09-27T13:08:21.000Z   \n",
       "3  2017-07-29T10:48:27.000Z   \n",
       "4  2018-02-21T12:11:45.000Z   \n",
       "\n",
       "                                         description  \\\n",
       "0  В рамках конференции «Data&Science: маркетинг»...   \n",
       "1                                                NaN   \n",
       "2                                                NaN   \n",
       "3  Описание:\\nРим Шаяхметов — Предсказание сердеч...   \n",
       "4  В рамках конференции Яндекса «Большие данные в...   \n",
       "\n",
       "                                           url  \n",
       "0  https://www.youtube.com/watch?v=46nnbxEZNw8  \n",
       "1  https://www.youtube.com/watch?v=RnUcRYAbWtY  \n",
       "2  https://www.youtube.com/watch?v=frLW8UVp_Ik  \n",
       "3  https://www.youtube.com/watch?v=7lerRDCZrhU  \n",
       "4  https://www.youtube.com/watch?v=Zco55S3RNU0  "
      ]
     },
     "execution_count": 4,
     "metadata": {},
     "output_type": "execute_result"
    }
   ],
   "source": [
    "df_vid.head(5)"
   ]
  },
  {
   "cell_type": "code",
   "execution_count": 11,
   "metadata": {},
   "outputs": [],
   "source": [
    "id2title = {idx:title for idx, title in df_vid[['youtube_id', 'title']].values}\n"
   ]
  },
  {
   "cell_type": "code",
   "execution_count": 5,
   "metadata": {},
   "outputs": [],
   "source": [
    "id2trans = pickle.load(open('id2transcripts.pkl', 'rb'))"
   ]
  },
  {
   "cell_type": "code",
   "execution_count": 10,
   "metadata": {
    "scrolled": true
   },
   "outputs": [
    {
     "data": {
      "text/plain": [
       "[{'duration': 3.38, 'start': 6.87, 'text': 'такси недавно запустили серию'},\n",
       " {'duration': 5.15, 'start': 9.35, 'text': 'мероприятий д.т.н.'},\n",
       " {'duration': 5.9, 'start': 10.25, 'text': 'сайнс который людей от науки ра'},\n",
       " {'duration': 4.2,\n",
       "  'start': 14.5,\n",
       "  'text': 'про свои задачи которых анализ данных'},\n",
       " {'duration': 4.44,\n",
       "  'start': 16.15,\n",
       "  'text': 'мог бы помочь а людей развивается да и'},\n",
       " {'duration': 4.22, 'start': 18.7, 'text': 'касается могли бы узнать новую'},\n",
       " {'duration': 7.32,\n",
       "  'start': 20.59,\n",
       "  'text': 'предметную область для себя и в ней вот'},\n",
       " {'duration': 8.56,\n",
       "  'start': 22.92,\n",
       "  'text': 'покопаться и первый метод был про физику'},\n",
       " {'duration': 5.219,\n",
       "  'start': 27.91,\n",
       "  'text': 'высоко физика высоких энергий и в'},\n",
       " {'duration': 8.42,\n",
       "  'start': 31.48,\n",
       "  'text': 'частности на этом do it when silence of'},\n",
       " {'duration': 11.731,\n",
       "  'start': 33.129,\n",
       "  'text': 'митапе было выдано задание про которая'},\n",
       " {'duration': 10.96,\n",
       "  'start': 39.9,\n",
       "  'text': 'богдан который сделал лучшее решение'},\n",
       " {'duration': 10.94,\n",
       "  'start': 44.86,\n",
       "  'text': 'сейчас расскажут всем привет меня зовут'},\n",
       " {'duration': 8.219,\n",
       "  'start': 50.86,\n",
       "  'text': 'богдан я часто в этом конкурсе и за'},\n",
       " {'duration': 7.54,\n",
       "  'start': 55.8,\n",
       "  'text': 'какое-то хорошее место вот и я сегодня'},\n",
       " {'duration': 8.421,\n",
       "  'start': 59.079,\n",
       "  'text': 'расскажу вам как произошло сначала пару'},\n",
       " {'duration': 7.41,\n",
       "  'start': 63.34,\n",
       "  'text': 'слов обо мне я работаю в яндексе уже'},\n",
       " {'duration': 6.789,\n",
       "  'start': 67.5,\n",
       "  'text': 'года три разрабатываю поиск яндекс'},\n",
       " {'duration': 5.43,\n",
       "  'start': 70.75,\n",
       "  'text': 'маркете обычно моя жизнь связана с'},\n",
       " {'duration': 5.851,\n",
       "  'start': 74.289,\n",
       "  'text': 'достоинством не как я пишу на си плюс'},\n",
       " {'duration': 8.299,\n",
       "  'start': 76.18,\n",
       "  'text': 'плюс сей иногда делаю какие-то подвижки'},\n",
       " {'duration': 6.95,\n",
       "  'start': 80.14,\n",
       "  'text': 'в сторону периодически играя на ковер и'},\n",
       " {'duration': 7.361,\n",
       "  'start': 84.479,\n",
       "  'text': 'при этом являясь семинаристов шаги'},\n",
       " {'duration': 11.26,\n",
       "  'start': 87.09,\n",
       "  'text': 'помогая вести машины обучение саша'},\n",
       " {'duration': 7.31,\n",
       "  'start': 91.84,\n",
       "  'text': 'фонарем собственно сначала пару слов о'},\n",
       " {'duration': 3.39, 'start': 98.35, 'text': 'конкурсе'},\n",
       " {'duration': 3.759,\n",
       "  'start': 99.15,\n",
       "  'text': 'этот конкурс был основан на данных'},\n",
       " {'duration': 4.32,\n",
       "  'start': 101.74,\n",
       "  'text': 'полученных из большого адронного'},\n",
       " {'duration': 6.6,\n",
       "  'start': 102.909,\n",
       "  'text': 'коллайдера и был представлен недавно на'},\n",
       " {'duration': 8.489,\n",
       "  'start': 106.06,\n",
       "  'text': 'вот как раз с этой серии докладов 5'}]"
      ]
     },
     "execution_count": 10,
     "metadata": {},
     "output_type": "execute_result"
    }
   ],
   "source": [
    "id2trans['2c7HGBuXOZ8'][:30]"
   ]
  },
  {
   "cell_type": "code",
   "execution_count": 18,
   "metadata": {},
   "outputs": [],
   "source": [
    "index2id = {i:idx for i, (idx, _, _) in enumerate(pieces)}\n"
   ]
  },
  {
   "cell_type": "code",
   "execution_count": 12,
   "metadata": {},
   "outputs": [],
   "source": [
    "# склеиваем кусочки транскриптов в куски длинной 30 сек\n",
    "pieces = []\n",
    "\n",
    "for key in id2trans:\n",
    "    text = []\n",
    "    duration = 0\n",
    "    start = None\n",
    "    for piece in id2trans[key]:\n",
    "        if not piece['text']:\n",
    "            continue\n",
    "        text.append(piece['text'])\n",
    "        duration += piece['duration']\n",
    "        if not start:\n",
    "            start = piece['start']\n",
    "        \n",
    "        if duration > 30:\n",
    "            pieces.append((key, ' '.join(text), start, ))\n",
    "            text = []\n",
    "            duration = 0\n",
    "            start = None\n",
    "\n"
   ]
  },
  {
   "cell_type": "code",
   "execution_count": 13,
   "metadata": {},
   "outputs": [
    {
     "data": {
      "text/plain": [
       "[('2c7HGBuXOZ8',\n",
       "  'такси недавно запустили серию мероприятий д.т.н. сайнс который людей от науки ра про свои задачи которых анализ данных мог бы помочь а людей развивается да и касается могли бы узнать новую предметную область для себя и в ней вот',\n",
       "  6.87),\n",
       " ('2c7HGBuXOZ8',\n",
       "  'покопаться и первый метод был про физику высоко физика высоких энергий и в частности на этом do it when silence of митапе было выдано задание про которая',\n",
       "  22.92),\n",
       " ('2c7HGBuXOZ8',\n",
       "  'богдан который сделал лучшее решение сейчас расскажут всем привет меня зовут богдан я часто в этом конкурсе и за',\n",
       "  39.9)]"
      ]
     },
     "execution_count": 13,
     "metadata": {},
     "output_type": "execute_result"
    }
   ],
   "source": [
    "pieces[:3]"
   ]
  },
  {
   "cell_type": "code",
   "execution_count": 23,
   "metadata": {},
   "outputs": [],
   "source": [
    "texts = [p[1] for p in pieces]"
   ]
  },
  {
   "cell_type": "markdown",
   "metadata": {},
   "source": [
    "Строим тфидф по транскриптам"
   ]
  },
  {
   "cell_type": "code",
   "execution_count": 24,
   "metadata": {},
   "outputs": [],
   "source": [
    "tfidf = TfidfVectorizer(min_df=5,max_features=25000, ngram_range=(1,2))\n",
    "# svd = TruncatedSVD(200)\n",
    "\n",
    "index = tfidf.fit_transform(texts)"
   ]
  },
  {
   "cell_type": "markdown",
   "metadata": {},
   "source": [
    "Транформим какой-то текст в вектор и считаем косинус до остальных транскриптов. Аггрегируем близости по ид_видео "
   ]
  },
  {
   "cell_type": "code",
   "execution_count": 25,
   "metadata": {},
   "outputs": [],
   "source": [
    "accum = defaultdict(list)\n",
    "\n",
    "sims = cosine_distances(tfidf.transform(['стекинг']), index)[0]\n",
    "\n",
    "for arg, sim in enumerate(sims):\n",
    "    accum[index2id[arg]].append((arg, sim))"
   ]
  },
  {
   "cell_type": "markdown",
   "metadata": {},
   "source": [
    "Находим наиболее близкий видос по среднему косинуса между нашим текстом и транскриптами этого видоса\n",
    "Находим для видоса наиболее близкий траскрипт"
   ]
  },
  {
   "cell_type": "code",
   "execution_count": 26,
   "metadata": {},
   "outputs": [],
   "source": [
    "id2mean = [(key, np.min([x[1] for x in elements])) for key, elements in accum.items()]\n",
    "id2maxind = {key:min(elements, key=lambda x: x[1])[0] for key, elements in accum.items()}"
   ]
  },
  {
   "cell_type": "code",
   "execution_count": 27,
   "metadata": {},
   "outputs": [],
   "source": [
    "id2mean_s = sorted(id2mean, key=lambda x: x[1])"
   ]
  },
  {
   "cell_type": "markdown",
   "metadata": {},
   "source": [
    "Показываем самые близкие"
   ]
  },
  {
   "cell_type": "code",
   "execution_count": 30,
   "metadata": {},
   "outputs": [
    {
     "data": {
      "text/plain": [
       "[('016. Фильтрация событий Большого Адронного Коллайдера — Богдан Мельник, Андрей Устюжанин',\n",
       "  'простая диета используя стекинг то есть я разбился данные по индикатору события на 5 фунтов обучил на них наивное решение получил для каждого fulda предсказания для'),\n",
       " ('Data&Science: Фильтрация событий Большого Адронного Коллайдера — Б. Мельник, А. Устюжанин',\n",
       "  'простая диета используя стекинг то есть я разбился данные по индикатору события на 5 фунтов обучил на них наивное решение получил для каждого fulda предсказания для'),\n",
       " ('Sberbank Data Science Contest: предсказание трат клиентов — Дмитрий Алтухов',\n",
       "  'линейности поймал и поэтому дальше какой-то тренинг или стекинг уже особо сильно не мог помочь потому что как бы все что можно мы уже забили и фичами и'),\n",
       " ('028. Sberbank Data Science Contest (предсказание трат клиентов) — Дмитрий Алтухов',\n",
       "  'линейности поймал и поэтому дальше какой-то тренинг или стекинг уже особо сильно не мог помочь потому что как бы все что можно мы уже забили и фичами и'),\n",
       " ('Тренировка по машинному обучению — Петр Ромов',\n",
       "  'того в результате соревнований оттачивается и придумают какие-то новые общие подходы к решению задач машинного обучения методы анализа на как для часто делают стекинг blending придумают какие-то')]"
      ]
     },
     "execution_count": 30,
     "metadata": {},
     "output_type": "execute_result"
    }
   ],
   "source": [
    "[(id2title[idx], texts[id2maxind[idx]]) for idx, _ in id2mean_s[:5]]"
   ]
  },
  {
   "cell_type": "code",
   "execution_count": null,
   "metadata": {},
   "outputs": [],
   "source": []
  }
 ],
 "metadata": {
  "kernelspec": {
   "display_name": "Python 3",
   "language": "python",
   "name": "python3"
  },
  "language_info": {
   "codemirror_mode": {
    "name": "ipython",
    "version": 3
   },
   "file_extension": ".py",
   "mimetype": "text/x-python",
   "name": "python",
   "nbconvert_exporter": "python",
   "pygments_lexer": "ipython3",
   "version": "3.5.2"
  }
 },
 "nbformat": 4,
 "nbformat_minor": 2
}
